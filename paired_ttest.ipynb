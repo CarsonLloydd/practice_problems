{
 "cells": [
  {
   "cell_type": "code",
   "execution_count": 31,
   "metadata": {},
   "outputs": [],
   "source": [
    "import pandas as pd"
   ]
  },
  {
   "cell_type": "code",
   "execution_count": 5,
   "metadata": {},
   "outputs": [],
   "source": [
    "data = pd.read_csv('catsvdogs.csv', nrows = 49)"
   ]
  },
  {
   "cell_type": "markdown",
   "metadata": {},
   "source": [
    "Neat dataset I found on data.world, it contains the population and ownership by household of dogs and cats broken down by state via American Veterinary Medical Association."
   ]
  },
  {
   "cell_type": "code",
   "execution_count": 7,
   "metadata": {},
   "outputs": [
    {
     "data": {
      "text/html": [
       "<div>\n",
       "<style scoped>\n",
       "    .dataframe tbody tr th:only-of-type {\n",
       "        vertical-align: middle;\n",
       "    }\n",
       "\n",
       "    .dataframe tbody tr th {\n",
       "        vertical-align: top;\n",
       "    }\n",
       "\n",
       "    .dataframe thead th {\n",
       "        text-align: right;\n",
       "    }\n",
       "</style>\n",
       "<table border=\"1\" class=\"dataframe\">\n",
       "  <thead>\n",
       "    <tr style=\"text-align: right;\">\n",
       "      <th></th>\n",
       "      <th>Location</th>\n",
       "      <th>Number of Households (in 1000)</th>\n",
       "      <th>Percentage of households with pets</th>\n",
       "      <th>Number of Pet Households (in 1000)</th>\n",
       "      <th>Percentage of Dog Owners</th>\n",
       "      <th>Dog Owning Households (1000s)</th>\n",
       "      <th>Mean Number of Dogs per household</th>\n",
       "      <th>Dog Population (in 1000)</th>\n",
       "      <th>Percentage of Cat Owners</th>\n",
       "      <th>Cat Owning Households</th>\n",
       "      <th>Mean Number of Cats</th>\n",
       "      <th>Cat Population</th>\n",
       "    </tr>\n",
       "  </thead>\n",
       "  <tbody>\n",
       "    <tr>\n",
       "      <td>0</td>\n",
       "      <td>Alabama</td>\n",
       "      <td>1,828</td>\n",
       "      <td>59.5</td>\n",
       "      <td>1,088</td>\n",
       "      <td>44.1</td>\n",
       "      <td>807</td>\n",
       "      <td>1.7</td>\n",
       "      <td>1,410</td>\n",
       "      <td>27.4</td>\n",
       "      <td>501</td>\n",
       "      <td>2.5</td>\n",
       "      <td>1,252</td>\n",
       "    </tr>\n",
       "    <tr>\n",
       "      <td>1</td>\n",
       "      <td>Arizona</td>\n",
       "      <td>2,515</td>\n",
       "      <td>59.5</td>\n",
       "      <td>1,497</td>\n",
       "      <td>40.1</td>\n",
       "      <td>1,008</td>\n",
       "      <td>1.8</td>\n",
       "      <td>1,798</td>\n",
       "      <td>29.6</td>\n",
       "      <td>743</td>\n",
       "      <td>1.9</td>\n",
       "      <td>1,438</td>\n",
       "    </tr>\n",
       "    <tr>\n",
       "      <td>2</td>\n",
       "      <td>Arkansas</td>\n",
       "      <td>1148</td>\n",
       "      <td>62.4</td>\n",
       "      <td>716</td>\n",
       "      <td>47.9</td>\n",
       "      <td>550</td>\n",
       "      <td>2.0</td>\n",
       "      <td>1,097</td>\n",
       "      <td>30.6</td>\n",
       "      <td>351</td>\n",
       "      <td>2.3</td>\n",
       "      <td>810</td>\n",
       "    </tr>\n",
       "    <tr>\n",
       "      <td>3</td>\n",
       "      <td>California</td>\n",
       "      <td>12,974</td>\n",
       "      <td>52.9</td>\n",
       "      <td>6,865</td>\n",
       "      <td>32.8</td>\n",
       "      <td>4,260</td>\n",
       "      <td>1.6</td>\n",
       "      <td>6,687</td>\n",
       "      <td>28.3</td>\n",
       "      <td>3,687</td>\n",
       "      <td>1.9</td>\n",
       "      <td>7,118</td>\n",
       "    </tr>\n",
       "    <tr>\n",
       "      <td>4</td>\n",
       "      <td>Colorado</td>\n",
       "      <td>1,986</td>\n",
       "      <td>61.3</td>\n",
       "      <td>1,217</td>\n",
       "      <td>42.5</td>\n",
       "      <td>845</td>\n",
       "      <td>1.6</td>\n",
       "      <td>1,349</td>\n",
       "      <td>32.3</td>\n",
       "      <td>642</td>\n",
       "      <td>1.9</td>\n",
       "      <td>1191</td>\n",
       "    </tr>\n",
       "  </tbody>\n",
       "</table>\n",
       "</div>"
      ],
      "text/plain": [
       "     Location Number of Households (in 1000)  \\\n",
       "0     Alabama                          1,828   \n",
       "1     Arizona                          2,515   \n",
       "2    Arkansas                           1148   \n",
       "3  California                         12,974   \n",
       "4    Colorado                          1,986   \n",
       "\n",
       "   Percentage of households with pets Number of Pet Households (in 1000)  \\\n",
       "0                                59.5                              1,088   \n",
       "1                                59.5                              1,497   \n",
       "2                                62.4                                716   \n",
       "3                                52.9                              6,865   \n",
       "4                                61.3                              1,217   \n",
       "\n",
       "   Percentage of Dog Owners Dog Owning Households (1000s)  \\\n",
       "0                      44.1                           807   \n",
       "1                      40.1                         1,008   \n",
       "2                      47.9                           550   \n",
       "3                      32.8                         4,260   \n",
       "4                      42.5                           845   \n",
       "\n",
       "   Mean Number of Dogs per household Dog Population (in 1000)  \\\n",
       "0                                1.7                    1,410   \n",
       "1                                1.8                    1,798   \n",
       "2                                2.0                    1,097   \n",
       "3                                1.6                    6,687   \n",
       "4                                1.6                    1,349   \n",
       "\n",
       "   Percentage of Cat Owners Cat Owning Households  Mean Number of Cats  \\\n",
       "0                      27.4                   501                  2.5   \n",
       "1                      29.6                   743                  1.9   \n",
       "2                      30.6                   351                  2.3   \n",
       "3                      28.3                 3,687                  1.9   \n",
       "4                      32.3                   642                  1.9   \n",
       "\n",
       "  Cat Population  \n",
       "0          1,252  \n",
       "1          1,438  \n",
       "2            810  \n",
       "3          7,118  \n",
       "4           1191  "
      ]
     },
     "execution_count": 7,
     "metadata": {},
     "output_type": "execute_result"
    }
   ],
   "source": [
    "data.head()"
   ]
  },
  {
   "cell_type": "code",
   "execution_count": 28,
   "metadata": {},
   "outputs": [],
   "source": [
    "dog_houses = data['Dog Owning Households (1000s)'].apply(lambda x: x.replace(',', '')).astype(int)\n",
    "cat_houses = data['Cat Owning Households'].apply(lambda x: x.replace(',', '')).astype(int)"
   ]
  },
  {
   "cell_type": "code",
   "execution_count": null,
   "metadata": {},
   "outputs": [],
   "source": [
    "# just a quick test to compare the number of dog owning households to\n",
    "# the cat owning households"
   ]
  },
  {
   "cell_type": "markdown",
   "metadata": {},
   "source": [
    "## Paired Student’s t-test\n",
    "Tests whether the means of two paired samples are significantly different.\n",
    "\n",
    "Assumptions\n",
    "\n",
    "* Observations in each sample are independent and identically distributed (iid).\n",
    "* Observations in each sample are normally distributed.\n",
    "* Observations in each sample have the same variance.\n",
    "* Observations across each sample are paired.\n",
    "\n",
    "Interpretation\n",
    "\n",
    "* H0: the means of the samples are equal.\n",
    "* H1: the means of the samples are unequal."
   ]
  },
  {
   "cell_type": "code",
   "execution_count": 30,
   "metadata": {},
   "outputs": [
    {
     "name": "stdout",
     "output_type": "stream",
     "text": [
      "stat=4.098, p=0.00016\n",
      "Probably different distributions\n"
     ]
    }
   ],
   "source": [
    "# Example of the Paired Student's t-test\n",
    "from scipy.stats import ttest_rel\n",
    "stat, p = ttest_rel(dog_houses, cat_houses)\n",
    "print('stat=%.3f, p=%.5f' % (stat, p))\n",
    "if p > 0.05:\n",
    "    print('Probably the same distribution')\n",
    "else:\n",
    "    print('Probably different distributions')"
   ]
  },
  {
   "cell_type": "markdown",
   "metadata": {},
   "source": [
    "The p-value is low, so we reject the null hypothesis and conclude that the means of the samples are unequal"
   ]
  },
  {
   "cell_type": "code",
   "execution_count": null,
   "metadata": {},
   "outputs": [],
   "source": []
  }
 ],
 "metadata": {
  "kernelspec": {
   "display_name": "Python 3",
   "language": "python",
   "name": "python3"
  },
  "language_info": {
   "codemirror_mode": {
    "name": "ipython",
    "version": 3
   },
   "file_extension": ".py",
   "mimetype": "text/x-python",
   "name": "python",
   "nbconvert_exporter": "python",
   "pygments_lexer": "ipython3",
   "version": "3.7.4"
  }
 },
 "nbformat": 4,
 "nbformat_minor": 4
}
